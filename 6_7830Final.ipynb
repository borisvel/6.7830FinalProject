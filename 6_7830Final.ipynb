{
  "cells": [
    {
      "cell_type": "markdown",
      "metadata": {
        "id": "view-in-github",
        "colab_type": "text"
      },
      "source": [
        "<a href=\"https://colab.research.google.com/github/borisvel/6.7830FinalProject/blob/main/6_7830Final.ipynb\" target=\"_parent\"><img src=\"https://colab.research.google.com/assets/colab-badge.svg\" alt=\"Open In Colab\"/></a>"
      ]
    },
    {
      "cell_type": "code",
      "execution_count": null,
      "metadata": {
        "id": "xQk9U4zVApSI"
      },
      "outputs": [],
      "source": [
        "import pymc as pm\n",
        "import numpy as np\n",
        "import pandas as pd\n",
        "from datetime import datetime\n",
        "import pytensor.tensor as pt\n",
        "import matplotlib.pyplot as plt\n",
        "import arviz as az\n",
        "from google.colab import files"
      ]
    },
    {
      "cell_type": "code",
      "execution_count": null,
      "metadata": {
        "id": "817oJ5orhpBw"
      },
      "outputs": [],
      "source": [
        "codes_to_states = {\n",
        "    'AK': 'Alaska',\n",
        "    'AL': 'Alabama',\n",
        "    'AR': 'Arkansas',\n",
        "    'AZ': 'Arizona',\n",
        "    'CA': 'California',\n",
        "    'CO': 'Colorado',\n",
        "    'CT': 'Connecticut',\n",
        "    'DC': 'District of Columbia',\n",
        "    'DE': 'Delaware',\n",
        "    'FL': 'Florida',\n",
        "    'GA': 'Georgia',\n",
        "    'HI': 'Hawaii',\n",
        "    'IA': 'Iowa',\n",
        "    'ID': 'Idaho',\n",
        "    'IL': 'Illinois',\n",
        "    'IN': 'Indiana',\n",
        "    'KS': 'Kansas',\n",
        "    'KY': 'Kentucky',\n",
        "    'LA': 'Louisiana',\n",
        "    'MA': 'Massachusetts',\n",
        "    'MD': 'Maryland',\n",
        "    'ME': 'Maine',\n",
        "    'MI': 'Michigan',\n",
        "    'MN': 'Minnesota',\n",
        "    'MO': 'Missouri',\n",
        "    'MS': 'Mississippi',\n",
        "    'MT': 'Montana',\n",
        "    'NC': 'North Carolina',\n",
        "    'ND': 'North Dakota',\n",
        "    'NE': 'Nebraska',\n",
        "    'NH': 'New Hampshire',\n",
        "    'NJ': 'New Jersey',\n",
        "    'NM': 'New Mexico',\n",
        "    'NV': 'Nevada',\n",
        "    'NY': 'New York',\n",
        "    'OH': 'Ohio',\n",
        "    'OK': 'Oklahoma',\n",
        "    'OR': 'Oregon',\n",
        "    'PA': 'Pennsylvania',\n",
        "    'RI': 'Rhode Island',\n",
        "    'SC': 'South Carolina',\n",
        "    'SD': 'South Dakota',\n",
        "    'TN': 'Tennessee',\n",
        "    'TX': 'Texas',\n",
        "    'UT': 'Utah',\n",
        "    'VA': 'Virginia',\n",
        "    'VT': 'Vermont',\n",
        "    'WA': 'Washington',\n",
        "    'WI': 'Wisconsin',\n",
        "    'WV': 'West Virginia',\n",
        "    'WY': 'Wyoming'\n",
        "}\n",
        "\n",
        "states_to_codes = {codes_to_states[code] : code for code in codes_to_states}"
      ]
    },
    {
      "cell_type": "code",
      "execution_count": null,
      "metadata": {
        "id": "YZpBacPMTFIR"
      },
      "outputs": [],
      "source": [
        "previous = pd.read_csv(\"2012results.csv\", thousands=',')"
      ]
    },
    {
      "cell_type": "code",
      "execution_count": null,
      "metadata": {
        "id": "0bzTXcmpTFFg"
      },
      "outputs": [],
      "source": [
        "previous = previous[[\"State\", \"Obama (D)\", \"Romney (R)\"]][:51]"
      ]
    },
    {
      "cell_type": "code",
      "execution_count": null,
      "metadata": {
        "id": "0xEr4phOmRjz"
      },
      "outputs": [],
      "source": [
        "previous[\"proportion\"] = previous[\"Obama (D)\"]/(previous[\"Obama (D)\"] + previous[\"Romney (R)\"])"
      ]
    },
    {
      "cell_type": "code",
      "execution_count": null,
      "metadata": {
        "id": "lFF484MYTFCd"
      },
      "outputs": [],
      "source": [
        "past_results = {}\n",
        "for i in range(previous.shape[0]):\n",
        "  past_results[previous.loc[i, \"State\"]] = previous.loc[i, \"proportion\"]"
      ]
    },
    {
      "cell_type": "code",
      "execution_count": null,
      "metadata": {
        "id": "Az7ZrPOEA2Rm"
      },
      "outputs": [],
      "source": [
        "polls = pd.read_csv(\"2016polls.csv\")"
      ]
    },
    {
      "cell_type": "code",
      "source": [
        "polls = polls.rename(columns = {'start_date':'startdate', 'end_date':'enddate', 'Obama (D)':'rawpoll_clinton', 'Romney (R)':'rawpoll_trump', 'Sample':'samplesize', 'Pollster':'pollster', 'State':'state'})"
      ],
      "metadata": {
        "id": "4wvzj-BNtumf"
      },
      "execution_count": null,
      "outputs": []
    },
    {
      "cell_type": "code",
      "execution_count": null,
      "metadata": {
        "colab": {
          "base_uri": "https://localhost:8080/",
          "height": 409
        },
        "id": "lP0QWI9EA2Ov",
        "outputId": "ca95375f-1817-4c19-ec0d-d0568a71e9c4"
      },
      "outputs": [
        {
          "output_type": "execute_result",
          "data": {
            "text/plain": [
              "   Unnamed: 0 state   startdate     enddate                  pollster grade  \\\n",
              "0           1  U.S.  2016-11-03  2016-11-06  ABC News/Washington Post    A+   \n",
              "1           2  U.S.  2016-11-01  2016-11-07   Google Consumer Surveys     B   \n",
              "2           3  U.S.  2016-11-02  2016-11-06                     Ipsos    A-   \n",
              "3           4  U.S.  2016-11-04  2016-11-07                    YouGov     B   \n",
              "4           5  U.S.  2016-11-03  2016-11-06          Gravis Marketing    B-   \n",
              "\n",
              "   samplesize population  rawpoll_clinton  rawpoll_trump  rawpoll_johnson  \\\n",
              "0      2220.0         lv            47.00          43.00             4.00   \n",
              "1     26574.0         lv            38.03          35.69             5.46   \n",
              "2      2195.0         lv            42.00          39.00             6.00   \n",
              "3      3677.0         lv            45.00          41.00             5.00   \n",
              "4     16639.0         rv            47.00          43.00             3.00   \n",
              "\n",
              "   rawpoll_mcmullin  adjpoll_clinton  adjpoll_trump  adjpoll_johnson  \\\n",
              "0               NaN         45.20163       41.72430         4.626221   \n",
              "1               NaN         43.34557       41.21439         5.175792   \n",
              "2               NaN         42.02638       38.81620         6.844734   \n",
              "3               NaN         45.65676       40.92004         6.069454   \n",
              "4               NaN         46.84089       42.33184         3.726098   \n",
              "\n",
              "   adjpoll_mcmullin  \n",
              "0               NaN  \n",
              "1               NaN  \n",
              "2               NaN  \n",
              "3               NaN  \n",
              "4               NaN  "
            ],
            "text/html": [
              "\n",
              "  <div id=\"df-da3d23fd-d257-430d-8570-038dc0fd7030\">\n",
              "    <div class=\"colab-df-container\">\n",
              "      <div>\n",
              "<style scoped>\n",
              "    .dataframe tbody tr th:only-of-type {\n",
              "        vertical-align: middle;\n",
              "    }\n",
              "\n",
              "    .dataframe tbody tr th {\n",
              "        vertical-align: top;\n",
              "    }\n",
              "\n",
              "    .dataframe thead th {\n",
              "        text-align: right;\n",
              "    }\n",
              "</style>\n",
              "<table border=\"1\" class=\"dataframe\">\n",
              "  <thead>\n",
              "    <tr style=\"text-align: right;\">\n",
              "      <th></th>\n",
              "      <th>Unnamed: 0</th>\n",
              "      <th>state</th>\n",
              "      <th>startdate</th>\n",
              "      <th>enddate</th>\n",
              "      <th>pollster</th>\n",
              "      <th>grade</th>\n",
              "      <th>samplesize</th>\n",
              "      <th>population</th>\n",
              "      <th>rawpoll_clinton</th>\n",
              "      <th>rawpoll_trump</th>\n",
              "      <th>rawpoll_johnson</th>\n",
              "      <th>rawpoll_mcmullin</th>\n",
              "      <th>adjpoll_clinton</th>\n",
              "      <th>adjpoll_trump</th>\n",
              "      <th>adjpoll_johnson</th>\n",
              "      <th>adjpoll_mcmullin</th>\n",
              "    </tr>\n",
              "  </thead>\n",
              "  <tbody>\n",
              "    <tr>\n",
              "      <th>0</th>\n",
              "      <td>1</td>\n",
              "      <td>U.S.</td>\n",
              "      <td>2016-11-03</td>\n",
              "      <td>2016-11-06</td>\n",
              "      <td>ABC News/Washington Post</td>\n",
              "      <td>A+</td>\n",
              "      <td>2220.0</td>\n",
              "      <td>lv</td>\n",
              "      <td>47.00</td>\n",
              "      <td>43.00</td>\n",
              "      <td>4.00</td>\n",
              "      <td>NaN</td>\n",
              "      <td>45.20163</td>\n",
              "      <td>41.72430</td>\n",
              "      <td>4.626221</td>\n",
              "      <td>NaN</td>\n",
              "    </tr>\n",
              "    <tr>\n",
              "      <th>1</th>\n",
              "      <td>2</td>\n",
              "      <td>U.S.</td>\n",
              "      <td>2016-11-01</td>\n",
              "      <td>2016-11-07</td>\n",
              "      <td>Google Consumer Surveys</td>\n",
              "      <td>B</td>\n",
              "      <td>26574.0</td>\n",
              "      <td>lv</td>\n",
              "      <td>38.03</td>\n",
              "      <td>35.69</td>\n",
              "      <td>5.46</td>\n",
              "      <td>NaN</td>\n",
              "      <td>43.34557</td>\n",
              "      <td>41.21439</td>\n",
              "      <td>5.175792</td>\n",
              "      <td>NaN</td>\n",
              "    </tr>\n",
              "    <tr>\n",
              "      <th>2</th>\n",
              "      <td>3</td>\n",
              "      <td>U.S.</td>\n",
              "      <td>2016-11-02</td>\n",
              "      <td>2016-11-06</td>\n",
              "      <td>Ipsos</td>\n",
              "      <td>A-</td>\n",
              "      <td>2195.0</td>\n",
              "      <td>lv</td>\n",
              "      <td>42.00</td>\n",
              "      <td>39.00</td>\n",
              "      <td>6.00</td>\n",
              "      <td>NaN</td>\n",
              "      <td>42.02638</td>\n",
              "      <td>38.81620</td>\n",
              "      <td>6.844734</td>\n",
              "      <td>NaN</td>\n",
              "    </tr>\n",
              "    <tr>\n",
              "      <th>3</th>\n",
              "      <td>4</td>\n",
              "      <td>U.S.</td>\n",
              "      <td>2016-11-04</td>\n",
              "      <td>2016-11-07</td>\n",
              "      <td>YouGov</td>\n",
              "      <td>B</td>\n",
              "      <td>3677.0</td>\n",
              "      <td>lv</td>\n",
              "      <td>45.00</td>\n",
              "      <td>41.00</td>\n",
              "      <td>5.00</td>\n",
              "      <td>NaN</td>\n",
              "      <td>45.65676</td>\n",
              "      <td>40.92004</td>\n",
              "      <td>6.069454</td>\n",
              "      <td>NaN</td>\n",
              "    </tr>\n",
              "    <tr>\n",
              "      <th>4</th>\n",
              "      <td>5</td>\n",
              "      <td>U.S.</td>\n",
              "      <td>2016-11-03</td>\n",
              "      <td>2016-11-06</td>\n",
              "      <td>Gravis Marketing</td>\n",
              "      <td>B-</td>\n",
              "      <td>16639.0</td>\n",
              "      <td>rv</td>\n",
              "      <td>47.00</td>\n",
              "      <td>43.00</td>\n",
              "      <td>3.00</td>\n",
              "      <td>NaN</td>\n",
              "      <td>46.84089</td>\n",
              "      <td>42.33184</td>\n",
              "      <td>3.726098</td>\n",
              "      <td>NaN</td>\n",
              "    </tr>\n",
              "  </tbody>\n",
              "</table>\n",
              "</div>\n",
              "      <button class=\"colab-df-convert\" onclick=\"convertToInteractive('df-da3d23fd-d257-430d-8570-038dc0fd7030')\"\n",
              "              title=\"Convert this dataframe to an interactive table.\"\n",
              "              style=\"display:none;\">\n",
              "        \n",
              "  <svg xmlns=\"http://www.w3.org/2000/svg\" height=\"24px\"viewBox=\"0 0 24 24\"\n",
              "       width=\"24px\">\n",
              "    <path d=\"M0 0h24v24H0V0z\" fill=\"none\"/>\n",
              "    <path d=\"M18.56 5.44l.94 2.06.94-2.06 2.06-.94-2.06-.94-.94-2.06-.94 2.06-2.06.94zm-11 1L8.5 8.5l.94-2.06 2.06-.94-2.06-.94L8.5 2.5l-.94 2.06-2.06.94zm10 10l.94 2.06.94-2.06 2.06-.94-2.06-.94-.94-2.06-.94 2.06-2.06.94z\"/><path d=\"M17.41 7.96l-1.37-1.37c-.4-.4-.92-.59-1.43-.59-.52 0-1.04.2-1.43.59L10.3 9.45l-7.72 7.72c-.78.78-.78 2.05 0 2.83L4 21.41c.39.39.9.59 1.41.59.51 0 1.02-.2 1.41-.59l7.78-7.78 2.81-2.81c.8-.78.8-2.07 0-2.86zM5.41 20L4 18.59l7.72-7.72 1.47 1.35L5.41 20z\"/>\n",
              "  </svg>\n",
              "      </button>\n",
              "      \n",
              "  <style>\n",
              "    .colab-df-container {\n",
              "      display:flex;\n",
              "      flex-wrap:wrap;\n",
              "      gap: 12px;\n",
              "    }\n",
              "\n",
              "    .colab-df-convert {\n",
              "      background-color: #E8F0FE;\n",
              "      border: none;\n",
              "      border-radius: 50%;\n",
              "      cursor: pointer;\n",
              "      display: none;\n",
              "      fill: #1967D2;\n",
              "      height: 32px;\n",
              "      padding: 0 0 0 0;\n",
              "      width: 32px;\n",
              "    }\n",
              "\n",
              "    .colab-df-convert:hover {\n",
              "      background-color: #E2EBFA;\n",
              "      box-shadow: 0px 1px 2px rgba(60, 64, 67, 0.3), 0px 1px 3px 1px rgba(60, 64, 67, 0.15);\n",
              "      fill: #174EA6;\n",
              "    }\n",
              "\n",
              "    [theme=dark] .colab-df-convert {\n",
              "      background-color: #3B4455;\n",
              "      fill: #D2E3FC;\n",
              "    }\n",
              "\n",
              "    [theme=dark] .colab-df-convert:hover {\n",
              "      background-color: #434B5C;\n",
              "      box-shadow: 0px 1px 3px 1px rgba(0, 0, 0, 0.15);\n",
              "      filter: drop-shadow(0px 1px 2px rgba(0, 0, 0, 0.3));\n",
              "      fill: #FFFFFF;\n",
              "    }\n",
              "  </style>\n",
              "\n",
              "      <script>\n",
              "        const buttonEl =\n",
              "          document.querySelector('#df-da3d23fd-d257-430d-8570-038dc0fd7030 button.colab-df-convert');\n",
              "        buttonEl.style.display =\n",
              "          google.colab.kernel.accessAllowed ? 'block' : 'none';\n",
              "\n",
              "        async function convertToInteractive(key) {\n",
              "          const element = document.querySelector('#df-da3d23fd-d257-430d-8570-038dc0fd7030');\n",
              "          const dataTable =\n",
              "            await google.colab.kernel.invokeFunction('convertToInteractive',\n",
              "                                                     [key], {});\n",
              "          if (!dataTable) return;\n",
              "\n",
              "          const docLinkHtml = 'Like what you see? Visit the ' +\n",
              "            '<a target=\"_blank\" href=https://colab.research.google.com/notebooks/data_table.ipynb>data table notebook</a>'\n",
              "            + ' to learn more about interactive tables.';\n",
              "          element.innerHTML = '';\n",
              "          dataTable['output_type'] = 'display_data';\n",
              "          await google.colab.output.renderOutput(dataTable, element);\n",
              "          const docLink = document.createElement('div');\n",
              "          docLink.innerHTML = docLinkHtml;\n",
              "          element.appendChild(docLink);\n",
              "        }\n",
              "      </script>\n",
              "    </div>\n",
              "  </div>\n",
              "  "
            ]
          },
          "metadata": {},
          "execution_count": 10
        }
      ],
      "source": [
        "polls.head()"
      ]
    },
    {
      "cell_type": "code",
      "execution_count": null,
      "metadata": {
        "id": "60xGas0ezMT5"
      },
      "outputs": [],
      "source": [
        "SWING_STATES = [\"Wisconsin\", \"Pennsylvania\", \"New Hampshire\", \"Minnesota\", \"Arizona\", \"Florida\", \"Michigan\", \"Nevada\", \"North Carolina\", \"Maine\", \"Vermont\", \"Georgia\", \"Colorado\"]\n",
        "#SWING_STATES = codes_to_states.keys()\n",
        "#SWING_STATES = [\"California\"]\n",
        "SWING_STATES_CODES = [states_to_codes[state] for state in SWING_STATES]\n",
        "#SWING_STATES_CODES = SWING_STATES"
      ]
    },
    {
      "cell_type": "code",
      "execution_count": null,
      "metadata": {
        "id": "SV_l5pZHJu9z"
      },
      "outputs": [],
      "source": [
        "pollsters = set(polls['pollster'])\n",
        "good_pollsters = []\n",
        "for pollster in pollsters:\n",
        "  if polls[polls['pollster'] == pollster].shape[0] >= 800: good_pollsters.append(pollster)"
      ]
    },
    {
      "cell_type": "code",
      "source": [
        "decided_per_pollster = {}\n",
        "for pollster in pollsters:\n",
        "  temp = polls[polls['pollster'] == pollster]\n",
        "  decided_per_pollster[pollster] = ((temp['rawpoll_clinton'] + temp['rawpoll_trump'])/100).reset_index(drop=True)"
      ],
      "metadata": {
        "id": "aGpSsODk7YR0"
      },
      "execution_count": null,
      "outputs": []
    },
    {
      "cell_type": "code",
      "execution_count": null,
      "metadata": {
        "colab": {
          "base_uri": "https://localhost:8080/"
        },
        "id": "CPNsK3oGA2MZ",
        "outputId": "de034464-6d04-441e-bd48-4b40fa39b532"
      },
      "outputs": [
        {
          "output_type": "stream",
          "name": "stderr",
          "text": [
            "<ipython-input-14-26f9cf69d3bd>:6: SettingWithCopyWarning: \n",
            "A value is trying to be set on a copy of a slice from a DataFrame.\n",
            "Try using .loc[row_indexer,col_indexer] = value instead\n",
            "\n",
            "See the caveats in the documentation: https://pandas.pydata.org/pandas-docs/stable/user_guide/indexing.html#returning-a-view-versus-a-copy\n",
            "  polls[\"startdate\"] = pd.to_datetime(polls[\"startdate\"])\n",
            "<ipython-input-14-26f9cf69d3bd>:7: SettingWithCopyWarning: \n",
            "A value is trying to be set on a copy of a slice from a DataFrame.\n",
            "Try using .loc[row_indexer,col_indexer] = value instead\n",
            "\n",
            "See the caveats in the documentation: https://pandas.pydata.org/pandas-docs/stable/user_guide/indexing.html#returning-a-view-versus-a-copy\n",
            "  polls[\"enddate\"] = pd.to_datetime(polls[\"enddate\"])\n",
            "<ipython-input-14-26f9cf69d3bd>:8: SettingWithCopyWarning: \n",
            "A value is trying to be set on a copy of a slice from a DataFrame\n",
            "\n",
            "See the caveats in the documentation: https://pandas.pydata.org/pandas-docs/stable/user_guide/indexing.html#returning-a-view-versus-a-copy\n",
            "  polls.sort_values(by=\"enddate\", inplace=True, ignore_index=True)\n"
          ]
        }
      ],
      "source": [
        "#polls.drop(columns = [\"Unnamed: 0\", \"MoE\", \"Spread\", \"obama_spread\"], inplace=True)\n",
        "polls.drop(columns = [\"Unnamed: 0\", \"grade\", \"population\", \"rawpoll_johnson\", \"rawpoll_mcmullin\", \"adjpoll_clinton\", \"adjpoll_trump\", \"adjpoll_johnson\", \"adjpoll_mcmullin\"], inplace=True)\n",
        "#polls = polls[polls[\"state\"] != \"U.S.\"]\n",
        "polls = polls[polls[\"state\"].isin(SWING_STATES)]\n",
        "#polls = polls[polls['pollster'].isin(good_pollsters)]\n",
        "polls[\"startdate\"] = pd.to_datetime(polls[\"startdate\"])\n",
        "polls[\"enddate\"] = pd.to_datetime(polls[\"enddate\"])\n",
        "polls.sort_values(by=\"enddate\", inplace=True, ignore_index=True)\n",
        "polls = polls[polls[\"enddate\"] > datetime(2016, 8, 8)]\n",
        "#removal = np.random.choice(polls.index, 3*polls.shape[0]//4, replace=False)\n",
        "#polls = polls.drop(removal)\n",
        "first_poll_ending = min(polls[\"enddate\"])\n",
        "election_day = datetime(2016, 11, 8)\n",
        "timeframe = int((election_day - first_poll_ending).days) + 1"
      ]
    },
    {
      "cell_type": "code",
      "execution_count": null,
      "metadata": {
        "colab": {
          "base_uri": "https://localhost:8080/"
        },
        "id": "_VgVhy-xA2Ji",
        "outputId": "51c4921e-7241-48ff-d080-019e9285617b"
      },
      "outputs": [
        {
          "output_type": "execute_result",
          "data": {
            "text/plain": [
              "0"
            ]
          },
          "metadata": {},
          "execution_count": 15
        }
      ],
      "source": [
        "polls.isna().sum().sum()"
      ]
    },
    {
      "cell_type": "code",
      "execution_count": null,
      "metadata": {
        "id": "VpAFSAGeA2Gq"
      },
      "outputs": [],
      "source": [
        "polls.dropna(inplace=True)\n",
        "polls = polls.reset_index(drop=True)"
      ]
    },
    {
      "cell_type": "code",
      "execution_count": null,
      "metadata": {
        "colab": {
          "base_uri": "https://localhost:8080/",
          "height": 206
        },
        "id": "FaeiJc9RA2Dz",
        "outputId": "8f535e75-1050-45cc-a3be-6045c13a2f10"
      },
      "outputs": [
        {
          "output_type": "execute_result",
          "data": {
            "text/plain": [
              "            state  startdate    enddate                            pollster  \\\n",
              "0  North Carolina 2016-08-04 2016-08-10                      Marist College   \n",
              "1        Colorado 2016-08-04 2016-08-10                      Marist College   \n",
              "2         Florida 2016-08-04 2016-08-10                      Marist College   \n",
              "3         Florida 2016-08-10 2016-08-10      Opinion Savvy/InsiderAdvantage   \n",
              "4        Michigan 2016-08-09 2016-08-10  Mitchell Research & Communications   \n",
              "\n",
              "   samplesize  rawpoll_clinton  rawpoll_trump  \n",
              "0       921.0             45.0           36.0  \n",
              "1       899.0             41.0           29.0  \n",
              "2       862.0             41.0           36.0  \n",
              "3       622.0             45.2           44.3  \n",
              "4      1314.0             44.0           33.0  "
            ],
            "text/html": [
              "\n",
              "  <div id=\"df-5afe0d2b-e32d-4b71-a07d-dc1279cb3d69\">\n",
              "    <div class=\"colab-df-container\">\n",
              "      <div>\n",
              "<style scoped>\n",
              "    .dataframe tbody tr th:only-of-type {\n",
              "        vertical-align: middle;\n",
              "    }\n",
              "\n",
              "    .dataframe tbody tr th {\n",
              "        vertical-align: top;\n",
              "    }\n",
              "\n",
              "    .dataframe thead th {\n",
              "        text-align: right;\n",
              "    }\n",
              "</style>\n",
              "<table border=\"1\" class=\"dataframe\">\n",
              "  <thead>\n",
              "    <tr style=\"text-align: right;\">\n",
              "      <th></th>\n",
              "      <th>state</th>\n",
              "      <th>startdate</th>\n",
              "      <th>enddate</th>\n",
              "      <th>pollster</th>\n",
              "      <th>samplesize</th>\n",
              "      <th>rawpoll_clinton</th>\n",
              "      <th>rawpoll_trump</th>\n",
              "    </tr>\n",
              "  </thead>\n",
              "  <tbody>\n",
              "    <tr>\n",
              "      <th>0</th>\n",
              "      <td>North Carolina</td>\n",
              "      <td>2016-08-04</td>\n",
              "      <td>2016-08-10</td>\n",
              "      <td>Marist College</td>\n",
              "      <td>921.0</td>\n",
              "      <td>45.0</td>\n",
              "      <td>36.0</td>\n",
              "    </tr>\n",
              "    <tr>\n",
              "      <th>1</th>\n",
              "      <td>Colorado</td>\n",
              "      <td>2016-08-04</td>\n",
              "      <td>2016-08-10</td>\n",
              "      <td>Marist College</td>\n",
              "      <td>899.0</td>\n",
              "      <td>41.0</td>\n",
              "      <td>29.0</td>\n",
              "    </tr>\n",
              "    <tr>\n",
              "      <th>2</th>\n",
              "      <td>Florida</td>\n",
              "      <td>2016-08-04</td>\n",
              "      <td>2016-08-10</td>\n",
              "      <td>Marist College</td>\n",
              "      <td>862.0</td>\n",
              "      <td>41.0</td>\n",
              "      <td>36.0</td>\n",
              "    </tr>\n",
              "    <tr>\n",
              "      <th>3</th>\n",
              "      <td>Florida</td>\n",
              "      <td>2016-08-10</td>\n",
              "      <td>2016-08-10</td>\n",
              "      <td>Opinion Savvy/InsiderAdvantage</td>\n",
              "      <td>622.0</td>\n",
              "      <td>45.2</td>\n",
              "      <td>44.3</td>\n",
              "    </tr>\n",
              "    <tr>\n",
              "      <th>4</th>\n",
              "      <td>Michigan</td>\n",
              "      <td>2016-08-09</td>\n",
              "      <td>2016-08-10</td>\n",
              "      <td>Mitchell Research &amp; Communications</td>\n",
              "      <td>1314.0</td>\n",
              "      <td>44.0</td>\n",
              "      <td>33.0</td>\n",
              "    </tr>\n",
              "  </tbody>\n",
              "</table>\n",
              "</div>\n",
              "      <button class=\"colab-df-convert\" onclick=\"convertToInteractive('df-5afe0d2b-e32d-4b71-a07d-dc1279cb3d69')\"\n",
              "              title=\"Convert this dataframe to an interactive table.\"\n",
              "              style=\"display:none;\">\n",
              "        \n",
              "  <svg xmlns=\"http://www.w3.org/2000/svg\" height=\"24px\"viewBox=\"0 0 24 24\"\n",
              "       width=\"24px\">\n",
              "    <path d=\"M0 0h24v24H0V0z\" fill=\"none\"/>\n",
              "    <path d=\"M18.56 5.44l.94 2.06.94-2.06 2.06-.94-2.06-.94-.94-2.06-.94 2.06-2.06.94zm-11 1L8.5 8.5l.94-2.06 2.06-.94-2.06-.94L8.5 2.5l-.94 2.06-2.06.94zm10 10l.94 2.06.94-2.06 2.06-.94-2.06-.94-.94-2.06-.94 2.06-2.06.94z\"/><path d=\"M17.41 7.96l-1.37-1.37c-.4-.4-.92-.59-1.43-.59-.52 0-1.04.2-1.43.59L10.3 9.45l-7.72 7.72c-.78.78-.78 2.05 0 2.83L4 21.41c.39.39.9.59 1.41.59.51 0 1.02-.2 1.41-.59l7.78-7.78 2.81-2.81c.8-.78.8-2.07 0-2.86zM5.41 20L4 18.59l7.72-7.72 1.47 1.35L5.41 20z\"/>\n",
              "  </svg>\n",
              "      </button>\n",
              "      \n",
              "  <style>\n",
              "    .colab-df-container {\n",
              "      display:flex;\n",
              "      flex-wrap:wrap;\n",
              "      gap: 12px;\n",
              "    }\n",
              "\n",
              "    .colab-df-convert {\n",
              "      background-color: #E8F0FE;\n",
              "      border: none;\n",
              "      border-radius: 50%;\n",
              "      cursor: pointer;\n",
              "      display: none;\n",
              "      fill: #1967D2;\n",
              "      height: 32px;\n",
              "      padding: 0 0 0 0;\n",
              "      width: 32px;\n",
              "    }\n",
              "\n",
              "    .colab-df-convert:hover {\n",
              "      background-color: #E2EBFA;\n",
              "      box-shadow: 0px 1px 2px rgba(60, 64, 67, 0.3), 0px 1px 3px 1px rgba(60, 64, 67, 0.15);\n",
              "      fill: #174EA6;\n",
              "    }\n",
              "\n",
              "    [theme=dark] .colab-df-convert {\n",
              "      background-color: #3B4455;\n",
              "      fill: #D2E3FC;\n",
              "    }\n",
              "\n",
              "    [theme=dark] .colab-df-convert:hover {\n",
              "      background-color: #434B5C;\n",
              "      box-shadow: 0px 1px 3px 1px rgba(0, 0, 0, 0.15);\n",
              "      filter: drop-shadow(0px 1px 2px rgba(0, 0, 0, 0.3));\n",
              "      fill: #FFFFFF;\n",
              "    }\n",
              "  </style>\n",
              "\n",
              "      <script>\n",
              "        const buttonEl =\n",
              "          document.querySelector('#df-5afe0d2b-e32d-4b71-a07d-dc1279cb3d69 button.colab-df-convert');\n",
              "        buttonEl.style.display =\n",
              "          google.colab.kernel.accessAllowed ? 'block' : 'none';\n",
              "\n",
              "        async function convertToInteractive(key) {\n",
              "          const element = document.querySelector('#df-5afe0d2b-e32d-4b71-a07d-dc1279cb3d69');\n",
              "          const dataTable =\n",
              "            await google.colab.kernel.invokeFunction('convertToInteractive',\n",
              "                                                     [key], {});\n",
              "          if (!dataTable) return;\n",
              "\n",
              "          const docLinkHtml = 'Like what you see? Visit the ' +\n",
              "            '<a target=\"_blank\" href=https://colab.research.google.com/notebooks/data_table.ipynb>data table notebook</a>'\n",
              "            + ' to learn more about interactive tables.';\n",
              "          element.innerHTML = '';\n",
              "          dataTable['output_type'] = 'display_data';\n",
              "          await google.colab.output.renderOutput(dataTable, element);\n",
              "          const docLink = document.createElement('div');\n",
              "          docLink.innerHTML = docLinkHtml;\n",
              "          element.appendChild(docLink);\n",
              "        }\n",
              "      </script>\n",
              "    </div>\n",
              "  </div>\n",
              "  "
            ]
          },
          "metadata": {},
          "execution_count": 17
        }
      ],
      "source": [
        "polls.head()"
      ]
    },
    {
      "cell_type": "code",
      "execution_count": null,
      "metadata": {
        "id": "zTAcspbJA2Be"
      },
      "outputs": [],
      "source": [
        "states = sorted(list(set(polls[\"state\"])))\n",
        "polls_per_state = {}"
      ]
    },
    {
      "cell_type": "code",
      "execution_count": null,
      "metadata": {
        "id": "RQjYKA0JA19z"
      },
      "outputs": [],
      "source": [
        "for state in states:\n",
        "    polls_per_state[state] = polls[polls[\"state\"] == state].reset_index(drop=True)"
      ]
    },
    {
      "cell_type": "code",
      "execution_count": null,
      "metadata": {
        "id": "7QPt-GA2A1yg"
      },
      "outputs": [],
      "source": [
        "present = np.zeros((timeframe, len(states)))\n",
        "Y = []\n",
        "for i in range(timeframe):\n",
        "    Y.append([])\n",
        "    for j in range(len(states)):\n",
        "        Y[-1].append([])\n",
        "        \n",
        "for idx, state in enumerate(states):\n",
        "    for i in range(polls_per_state[state].shape[0]):\n",
        "        day_since_start = int((polls_per_state[state].loc[i, \"enddate\"] - first_poll_ending).days)\n",
        "        democrat = polls_per_state[state].loc[i, \"rawpoll_clinton\"]\n",
        "        republican = polls_per_state[state].loc[i, \"rawpoll_trump\"]\n",
        "        prefer_someone = int((polls_per_state[state].loc[i, \"samplesize\"])*(democrat + republican)/100)\n",
        "        if prefer_someone > polls_per_state[state].loc[i, \"samplesize\"]: print(democrat + republican)\n",
        "        Y[day_since_start][idx].append((int(democrat*polls_per_state[state].loc[i, \"samplesize\"]/100), prefer_someone, polls_per_state[state].loc[i, \"samplesize\"]))\n",
        "        present[day_since_start][idx] = 1"
      ]
    },
    {
      "cell_type": "code",
      "execution_count": null,
      "metadata": {
        "id": "k-Fe3-p8BFWN"
      },
      "outputs": [],
      "source": [
        "h = np.array([past_results[states_to_codes[state]] for state in states])\n",
        "s = np.zeros(len(states)) + 6\n",
        "past = 14\n",
        "day = timeframe - past\n",
        "final_decided = np.zeros(len(states)) + 0.99\n",
        "decided_s = np.zeros(len(states)) + 1\n",
        "\n",
        "y_obs = []\n",
        "total = []\n",
        "decided = []\n",
        "cs = []\n",
        "\n",
        "for i in range(day):\n",
        "    for j in range(len(states)):\n",
        "        for poll in Y[i][j]:\n",
        "            decided.append(poll[1])\n",
        "            y_obs.append(poll[0])\n",
        "            total.append(poll[2])\n",
        "            cs.append((i, j))\n",
        "            \n",
        "y_obs = np.array(y_obs)\n",
        "decided = np.array(decided)\n",
        "total = np.array(total)"
      ]
    },
    {
      "cell_type": "code",
      "source": [
        "state = 12\n",
        "days = []\n",
        "support = []\n",
        "means = []\n",
        "means_running = []\n",
        "days_running = []\n",
        "days_single = []\n",
        "medians = []\n",
        "for i in range(timeframe):\n",
        "  temp = []\n",
        "  for poll in Y[i][state]:\n",
        "    days.append(i)\n",
        "    support.append(poll[0]/poll[1])\n",
        "    temp.append(poll[0]/poll[1])\n",
        "  if len(Y[i][state]) > 0:\n",
        "    means.append(np.mean(temp))\n",
        "    days_single.append(i)\n",
        "    medians.append(np.median(temp))\n",
        "\n",
        "for i in range(timeframe):\n",
        "  temp = []\n",
        "  for j in range(max(0, i-20), i + 1):\n",
        "      for poll in Y[j][state]:\n",
        "        temp.append(poll[0]/poll[1])\n",
        "  if len(temp) > 0:\n",
        "    means_running.append(np.mean(temp))\n",
        "    days_running.append(i)"
      ],
      "metadata": {
        "id": "d3UAo9ID8Ahe"
      },
      "execution_count": null,
      "outputs": []
    },
    {
      "cell_type": "code",
      "source": [
        "plt.scatter(days, support)\n",
        "plt.plot(days_running, means_running)\n",
        "plt.xlabel(\"Days since August 10th \\n Pennsylvania\")\n",
        "plt.ylabel(\"Proportion of Democratic support\")\n",
        "plt.show()"
      ],
      "metadata": {
        "colab": {
          "base_uri": "https://localhost:8080/",
          "height": 466
        },
        "id": "5pSqCYQ28VyD",
        "outputId": "48154116-c052-4f62-e147-264cd9a445ee"
      },
      "execution_count": null,
      "outputs": [
        {
          "output_type": "display_data",
          "data": {
            "text/plain": [
              "<Figure size 640x480 with 1 Axes>"
            ],
            "image/png": "[encoded data removed]"
          },
          "metadata": {}
        }
      ]
    },
    {
      "cell_type": "code",
      "execution_count": null,
      "metadata": {
        "id": "ppE5N5yKBFTW"
      },
      "outputs": [],
      "source": [
        "with pm.Model() as voting_model:\n",
        "    \n",
        "    #priors\n",
        "    sigma_beta = pm.HalfNormal(\"sigma_beta\", sigma=1)\n",
        "    sigma_delta = pm.HalfNormal(\"sigma_delta\", sigma=1)\n",
        "    \n",
        "    #random walk\n",
        "    GRWD = pm.GaussianRandomWalk(\"deltaRW\", mu = 0, sigma = sigma_delta, shape=(timeframe, 1), init_dist = pm.Normal.dist(0, 1e-6))\n",
        "    GRWB = pm.MvGaussianRandomWalk(\"betaRW\", \n",
        "                                 mu = np.zeros(len(states)), \n",
        "                                 cov = np.identity(len(states))*sigma_beta, \n",
        "                                 shape=(timeframe, len(states)), \n",
        "                                 init_dist = pm.MvNormal.dist(mu = pm.math.logit(h), cov = np.diag(s), shape=(len(states)))\n",
        "                                  )\n",
        "    \n",
        "    #modelling pi\n",
        "    pi = pm.Deterministic(\"pi\", var = pm.math.invlogit(GRWD + GRWB))\n",
        "    \n",
        "    #what we observe\n",
        "    pi_obs = []\n",
        "    for c in cs:\n",
        "        pi_obs.append(pi[timeframe - 1 - c[0]][c[1]])\n",
        "    pi_obs = pt.as_tensor_variable(pi_obs)\n",
        "    y = pm.Binomial(\"y\", p=pi_obs, n=decided, shape=(len(cs)), observed=y_obs)"
      ]
    },
    {
      "cell_type": "code",
      "execution_count": null,
      "metadata": {
        "id": "yZWhAIc-xD5F"
      },
      "outputs": [],
      "source": [
        "\"\"\"\n",
        "with pm.Model() as decided_model:\n",
        "    \n",
        "    #priors\n",
        "    sigma_gamma = pm.HalfNormal(\"sigma_gamma\", sigma=1)\n",
        "    sigma_eta = pm.HalfNormal(\"sigma_eta\", sigma=1)\n",
        "    \n",
        "    #random walk\n",
        "    GRWE = pm.GaussianRandomWalk(\"etaRW\", mu = 0, sigma = sigma_eta, shape=(timeframe, 1), init_dist = pm.Normal.dist(0, 1e-6))\n",
        "    GRWG = pm.MvGaussianRandomWalk(\"gammaRW\", \n",
        "                                 mu = np.zeros(len(states)), \n",
        "                                 cov = np.identity(len(states))*sigma_gamma, \n",
        "                                 shape=(timeframe, len(states)), \n",
        "                                 init_dist = pm.MvNormal.dist(mu = pm.math.logit(final_decided), cov = np.diag(decided_s), shape=(len(states)))\n",
        "                                  )\n",
        "  \n",
        "    #modelling pi\n",
        "    pi_decided = pm.Deterministic(\"pi_decided\", var = pm.math.invlogit(GRWG + GRWE))\n",
        "    \n",
        "    \n",
        "    #what we observe\n",
        "    pi_decided_obs = []\n",
        "    for c in cs:\n",
        "        pi_decided_obs.append(pi_decided[timeframe - 1 - c[0]][c[1]])\n",
        "    pi_decided_obs = pt.as_tensor_variable(pi_decided_obs)\n",
        "    d = pm.Binomial(\"d\", p=pi_decided_obs, n=total, shape =(len(cs)), observed = decided)\n",
        "  \"\"\""
      ]
    },
    {
      "cell_type": "code",
      "source": [
        "\"\"\"\n",
        "with pm.Model() as voting_model_updated:\n",
        "    \n",
        "    #priors\n",
        "    sigma_beta = pm.HalfNormal(\"sigma_beta\", sigma=1)\n",
        "    sigma_delta = pm.HalfNormal(\"sigma_delta\", sigma=1)\n",
        "    #r = pm.Uniform(\"rho\", lower = 1, upper = 3, shape=(1, len(states)))\n",
        "    #sigma_ar = pm.HalfNormal(\"sigma_ar\", sigma=1)\n",
        "    \n",
        "    #random walk\n",
        "    GRWD = pm.GaussianRandomWalk(\"deltaRW\", mu = 0, sigma = sigma_delta, shape=(timeframe, 1), init_dist = pm.Normal.dist(0, 1e-6))\n",
        "    GRWB = pm.MvGaussianRandomWalk(\"betaRW\", \n",
        "                                 mu = np.zeros(len(states)), \n",
        "                                 cov = np.identity(len(states))*sigma_beta, \n",
        "                                 shape=(timeframe, len(states)), \n",
        "                                 init_dist = pm.MvNormal.dist(mu = pm.math.logit(h), cov = np.diag(s), shape=(len(states)))\n",
        "                                  )\n",
        "    \n",
        "    #autoregressive\n",
        "    autoreg = pm.AR('ar_walk', \n",
        "                    rho=r,\n",
        "                    sigma=sigma_ar, \n",
        "                    shape = (timeframe, len(states)), \n",
        "               init_dist = pm.MvNormal.dist(mu = np.zeros(len(states)), cov = np.identity(len(states))*(1e-6), shape=(len(states)))\n",
        "              )\n",
        "    \n",
        "    \n",
        "    #modelling pi\n",
        "    pi = pm.Deterministic(\"pi\", var = pm.math.invlogit(GRWB + GRWD))\n",
        "    \n",
        "    #what we observe\n",
        "    pi_obs = []\n",
        "    for c in cs:\n",
        "        pi_obs.append(pi[timeframe - 1 - c[0]][c[1]])\n",
        "    pi_obs = pt.as_tensor_variable(pi_obs)\n",
        "    ud = pm.Binomial(\"y\", p=pi_obs, n=total, shape = (len(cs)), observed = y_obs)\n",
        "  \"\"\""
      ],
      "metadata": {
        "id": "-okL35EiKeXf"
      },
      "execution_count": null,
      "outputs": []
    },
    {
      "cell_type": "code",
      "execution_count": null,
      "metadata": {
        "id": "3hK4MPrUBFRA"
      },
      "outputs": [],
      "source": [
        "pm.model_to_graphviz(voting_model)"
      ]
    },
    {
      "cell_type": "code",
      "execution_count": null,
      "metadata": {
        "id": "McD_ZgJTxwbV"
      },
      "outputs": [],
      "source": [
        "pm.model_to_graphviz(decided_model)"
      ]
    },
    {
      "cell_type": "code",
      "source": [
        "pm.model_to_graphviz(voting_model_updated)"
      ],
      "metadata": {
        "id": "tOcWGPIbQpqz"
      },
      "execution_count": null,
      "outputs": []
    },
    {
      "cell_type": "code",
      "execution_count": null,
      "metadata": {
        "id": "WJ3XvzFxBFOZ"
      },
      "outputs": [],
      "source": [
        "with voting_model:\n",
        "    trace_voting = pm.sample(draws=500, tune=500, cores=2)"
      ]
    },
    {
      "cell_type": "code",
      "execution_count": null,
      "metadata": {
        "id": "ZvTEIU9Wx-r3"
      },
      "outputs": [],
      "source": [
        "#with decided_model:\n",
        "#    trace_decided = pm.sample(draws=500, tune=500, cores=2)"
      ]
    },
    {
      "cell_type": "code",
      "source": [
        "#with voting_model_updated:\n",
        "#    trace_voting_updated = pm.sample(draws=500, tune=500, cores=2)"
      ],
      "metadata": {
        "id": "bk4mScc6X8i2"
      },
      "execution_count": null,
      "outputs": []
    },
    {
      "cell_type": "code",
      "execution_count": null,
      "metadata": {
        "id": "EM125TKlSqul"
      },
      "outputs": [],
      "source": [
        "data_voting = az.summary(trace_voting)\n",
        "data_voting.to_csv(\"2012d14voting.csv\")\n",
        "files.download(\"2012d14votingtest.csv\")"
      ]
    },
    {
      "cell_type": "code",
      "execution_count": null,
      "metadata": {
        "id": "cR8Klr9cZCUy",
        "colab": {
          "base_uri": "https://localhost:8080/",
          "height": 17
        },
        "outputId": "d701863e-1d72-4313-99c6-897df81b6f21"
      },
      "outputs": [
        {
          "output_type": "display_data",
          "data": {
            "text/plain": [
              "<IPython.core.display.Javascript object>"
            ],
            "application/javascript": [
              "\n",
              "    async function download(id, filename, size) {\n",
              "      if (!google.colab.kernel.accessAllowed) {\n",
              "        return;\n",
              "      }\n",
              "      const div = document.createElement('div');\n",
              "      const label = document.createElement('label');\n",
              "      label.textContent = `Downloading \"${filename}\": `;\n",
              "      div.appendChild(label);\n",
              "      const progress = document.createElement('progress');\n",
              "      progress.max = size;\n",
              "      div.appendChild(progress);\n",
              "      document.body.appendChild(div);\n",
              "\n",
              "      const buffers = [];\n",
              "      let downloaded = 0;\n",
              "\n",
              "      const channel = await google.colab.kernel.comms.open(id);\n",
              "      // Send a message to notify the kernel that we're ready.\n",
              "      channel.send({})\n",
              "\n",
              "      for await (const message of channel.messages) {\n",
              "        // Send a message to notify the kernel that we're ready.\n",
              "        channel.send({})\n",
              "        if (message.buffers) {\n",
              "          for (const buffer of message.buffers) {\n",
              "            buffers.push(buffer);\n",
              "            downloaded += buffer.byteLength;\n",
              "            progress.value = downloaded;\n",
              "          }\n",
              "        }\n",
              "      }\n",
              "      const blob = new Blob(buffers, {type: 'application/binary'});\n",
              "      const a = document.createElement('a');\n",
              "      a.href = window.URL.createObjectURL(blob);\n",
              "      a.download = filename;\n",
              "      div.appendChild(a);\n",
              "      a.click();\n",
              "      div.remove();\n",
              "    }\n",
              "  "
            ]
          },
          "metadata": {}
        },
        {
          "output_type": "display_data",
          "data": {
            "text/plain": [
              "<IPython.core.display.Javascript object>"
            ],
            "application/javascript": [
              "download(\"download_104ef91a-2fa8-4ab3-9ddb-5006276cbea7\", \"2016d14decided2.csv\", 160776)"
            ]
          },
          "metadata": {}
        }
      ],
      "source": [
        "#data_decided = az.summary(trace_decided)\n",
        "#data_decided.to_csv(\"2016d14decided.csv\")\n",
        "#files.download(\"2016d14decided.csv\")"
      ]
    },
    {
      "cell_type": "code",
      "source": [
        "#data_undecided = az.summary(trace_voting_updated)\n",
        "#data_undecided.to_csv(\"2016d14votingupdated.csv\")\n",
        "#files.download(\"2016d14votingupdated.csv\")"
      ],
      "metadata": {
        "colab": {
          "base_uri": "https://localhost:8080/",
          "height": 17
        },
        "id": "rm6q_bdQX_7b",
        "outputId": "42bb1306-a91c-44ba-a088-7412fde3b660"
      },
      "execution_count": null,
      "outputs": [
        {
          "output_type": "display_data",
          "data": {
            "text/plain": [
              "<IPython.core.display.Javascript object>"
            ],
            "application/javascript": [
              "\n",
              "    async function download(id, filename, size) {\n",
              "      if (!google.colab.kernel.accessAllowed) {\n",
              "        return;\n",
              "      }\n",
              "      const div = document.createElement('div');\n",
              "      const label = document.createElement('label');\n",
              "      label.textContent = `Downloading \"${filename}\": `;\n",
              "      div.appendChild(label);\n",
              "      const progress = document.createElement('progress');\n",
              "      progress.max = size;\n",
              "      div.appendChild(progress);\n",
              "      document.body.appendChild(div);\n",
              "\n",
              "      const buffers = [];\n",
              "      let downloaded = 0;\n",
              "\n",
              "      const channel = await google.colab.kernel.comms.open(id);\n",
              "      // Send a message to notify the kernel that we're ready.\n",
              "      channel.send({})\n",
              "\n",
              "      for await (const message of channel.messages) {\n",
              "        // Send a message to notify the kernel that we're ready.\n",
              "        channel.send({})\n",
              "        if (message.buffers) {\n",
              "          for (const buffer of message.buffers) {\n",
              "            buffers.push(buffer);\n",
              "            downloaded += buffer.byteLength;\n",
              "            progress.value = downloaded;\n",
              "          }\n",
              "        }\n",
              "      }\n",
              "      const blob = new Blob(buffers, {type: 'application/binary'});\n",
              "      const a = document.createElement('a');\n",
              "      a.href = window.URL.createObjectURL(blob);\n",
              "      a.download = filename;\n",
              "      div.appendChild(a);\n",
              "      a.click();\n",
              "      div.remove();\n",
              "    }\n",
              "  "
            ]
          },
          "metadata": {}
        },
        {
          "output_type": "display_data",
          "data": {
            "text/plain": [
              "<IPython.core.display.Javascript object>"
            ],
            "application/javascript": [
              "download(\"download_5a29e187-a4e9-4c54-b74c-f6f746d66eb2\", \"2016d14votingupdated1.csv\", 164619)"
            ]
          },
          "metadata": {}
        }
      ]
    },
    {
      "cell_type": "code",
      "execution_count": null,
      "metadata": {
        "id": "-bOzBcujD5Eh"
      },
      "outputs": [],
      "source": [
        "processed = pd.read_csv(\"2016d14voting.csv\")"
      ]
    },
    {
      "cell_type": "code",
      "source": [
        "processed"
      ],
      "metadata": {
        "colab": {
          "base_uri": "https://localhost:8080/",
          "height": 424
        },
        "id": "khd9tuJpNjcN",
        "outputId": "70c29ab2-1e15-4128-bfe4-4d0b27827b8b"
      },
      "execution_count": null,
      "outputs": [
        {
          "output_type": "execute_result",
          "data": {
            "text/plain": [
              "         Unnamed: 0   mean     sd  hdi_3%  hdi_97%  mcse_mean  mcse_sd  \\\n",
              "0     deltaRW[0, 0] -0.000  0.000  -0.000    0.000      0.000    0.000   \n",
              "1     deltaRW[1, 0]  0.000  0.000  -0.000    0.000      0.000    0.000   \n",
              "2     deltaRW[2, 0]  0.000  0.000  -0.000    0.000      0.000    0.000   \n",
              "3     deltaRW[3, 0]  0.000  0.000  -0.000    0.000      0.000    0.000   \n",
              "4     deltaRW[4, 0] -0.000  0.000  -0.000    0.000      0.000    0.000   \n",
              "...             ...    ...    ...     ...      ...        ...      ...   \n",
              "2454      pi[90, 8]  0.551  0.016   0.519    0.580      0.000    0.000   \n",
              "2455      pi[90, 9]  0.524  0.014   0.495    0.549      0.003    0.002   \n",
              "2456     pi[90, 10]  0.536  0.018   0.499    0.568      0.000    0.000   \n",
              "2457     pi[90, 11]  0.701  0.027   0.655    0.755      0.005    0.004   \n",
              "2458     pi[90, 12]  0.569  0.020   0.532    0.609      0.003    0.002   \n",
              "\n",
              "      ess_bulk  ess_tail  r_hat  \n",
              "0        811.0     641.0   1.00  \n",
              "1        893.0     442.0   1.00  \n",
              "2        861.0     598.0   1.00  \n",
              "3        934.0     355.0   1.00  \n",
              "4        978.0     580.0   1.00  \n",
              "...        ...       ...    ...  \n",
              "2454    1444.0     986.0   1.00  \n",
              "2455      27.0     861.0   1.05  \n",
              "2456    1401.0     173.0   1.03  \n",
              "2457      30.0      26.0   1.05  \n",
              "2458      47.0      83.0   1.04  \n",
              "\n",
              "[2459 rows x 10 columns]"
            ],
            "text/html": [
              "\n",
              "  <div id=\"df-b55d2b26-01bb-41d9-81ce-c0a114f276da\">\n",
              "    <div class=\"colab-df-container\">\n",
              "      <div>\n",
              "<style scoped>\n",
              "    .dataframe tbody tr th:only-of-type {\n",
              "        vertical-align: middle;\n",
              "    }\n",
              "\n",
              "    .dataframe tbody tr th {\n",
              "        vertical-align: top;\n",
              "    }\n",
              "\n",
              "    .dataframe thead th {\n",
              "        text-align: right;\n",
              "    }\n",
              "</style>\n",
              "<table border=\"1\" class=\"dataframe\">\n",
              "  <thead>\n",
              "    <tr style=\"text-align: right;\">\n",
              "      <th></th>\n",
              "      <th>Unnamed: 0</th>\n",
              "      <th>mean</th>\n",
              "      <th>sd</th>\n",
              "      <th>hdi_3%</th>\n",
              "      <th>hdi_97%</th>\n",
              "      <th>mcse_mean</th>\n",
              "      <th>mcse_sd</th>\n",
              "      <th>ess_bulk</th>\n",
              "      <th>ess_tail</th>\n",
              "      <th>r_hat</th>\n",
              "    </tr>\n",
              "  </thead>\n",
              "  <tbody>\n",
              "    <tr>\n",
              "      <th>0</th>\n",
              "      <td>deltaRW[0, 0]</td>\n",
              "      <td>-0.000</td>\n",
              "      <td>0.000</td>\n",
              "      <td>-0.000</td>\n",
              "      <td>0.000</td>\n",
              "      <td>0.000</td>\n",
              "      <td>0.000</td>\n",
              "      <td>811.0</td>\n",
              "      <td>641.0</td>\n",
              "      <td>1.00</td>\n",
              "    </tr>\n",
              "    <tr>\n",
              "      <th>1</th>\n",
              "      <td>deltaRW[1, 0]</td>\n",
              "      <td>0.000</td>\n",
              "      <td>0.000</td>\n",
              "      <td>-0.000</td>\n",
              "      <td>0.000</td>\n",
              "      <td>0.000</td>\n",
              "      <td>0.000</td>\n",
              "      <td>893.0</td>\n",
              "      <td>442.0</td>\n",
              "      <td>1.00</td>\n",
              "    </tr>\n",
              "    <tr>\n",
              "      <th>2</th>\n",
              "      <td>deltaRW[2, 0]</td>\n",
              "      <td>0.000</td>\n",
              "      <td>0.000</td>\n",
              "      <td>-0.000</td>\n",
              "      <td>0.000</td>\n",
              "      <td>0.000</td>\n",
              "      <td>0.000</td>\n",
              "      <td>861.0</td>\n",
              "      <td>598.0</td>\n",
              "      <td>1.00</td>\n",
              "    </tr>\n",
              "    <tr>\n",
              "      <th>3</th>\n",
              "      <td>deltaRW[3, 0]</td>\n",
              "      <td>0.000</td>\n",
              "      <td>0.000</td>\n",
              "      <td>-0.000</td>\n",
              "      <td>0.000</td>\n",
              "      <td>0.000</td>\n",
              "      <td>0.000</td>\n",
              "      <td>934.0</td>\n",
              "      <td>355.0</td>\n",
              "      <td>1.00</td>\n",
              "    </tr>\n",
              "    <tr>\n",
              "      <th>4</th>\n",
              "      <td>deltaRW[4, 0]</td>\n",
              "      <td>-0.000</td>\n",
              "      <td>0.000</td>\n",
              "      <td>-0.000</td>\n",
              "      <td>0.000</td>\n",
              "      <td>0.000</td>\n",
              "      <td>0.000</td>\n",
              "      <td>978.0</td>\n",
              "      <td>580.0</td>\n",
              "      <td>1.00</td>\n",
              "    </tr>\n",
              "    <tr>\n",
              "      <th>...</th>\n",
              "      <td>...</td>\n",
              "      <td>...</td>\n",
              "      <td>...</td>\n",
              "      <td>...</td>\n",
              "      <td>...</td>\n",
              "      <td>...</td>\n",
              "      <td>...</td>\n",
              "      <td>...</td>\n",
              "      <td>...</td>\n",
              "      <td>...</td>\n",
              "    </tr>\n",
              "    <tr>\n",
              "      <th>2454</th>\n",
              "      <td>pi[90, 8]</td>\n",
              "      <td>0.551</td>\n",
              "      <td>0.016</td>\n",
              "      <td>0.519</td>\n",
              "      <td>0.580</td>\n",
              "      <td>0.000</td>\n",
              "      <td>0.000</td>\n",
              "      <td>1444.0</td>\n",
              "      <td>986.0</td>\n",
              "      <td>1.00</td>\n",
              "    </tr>\n",
              "    <tr>\n",
              "      <th>2455</th>\n",
              "      <td>pi[90, 9]</td>\n",
              "      <td>0.524</td>\n",
              "      <td>0.014</td>\n",
              "      <td>0.495</td>\n",
              "      <td>0.549</td>\n",
              "      <td>0.003</td>\n",
              "      <td>0.002</td>\n",
              "      <td>27.0</td>\n",
              "      <td>861.0</td>\n",
              "      <td>1.05</td>\n",
              "    </tr>\n",
              "    <tr>\n",
              "      <th>2456</th>\n",
              "      <td>pi[90, 10]</td>\n",
              "      <td>0.536</td>\n",
              "      <td>0.018</td>\n",
              "      <td>0.499</td>\n",
              "      <td>0.568</td>\n",
              "      <td>0.000</td>\n",
              "      <td>0.000</td>\n",
              "      <td>1401.0</td>\n",
              "      <td>173.0</td>\n",
              "      <td>1.03</td>\n",
              "    </tr>\n",
              "    <tr>\n",
              "      <th>2457</th>\n",
              "      <td>pi[90, 11]</td>\n",
              "      <td>0.701</td>\n",
              "      <td>0.027</td>\n",
              "      <td>0.655</td>\n",
              "      <td>0.755</td>\n",
              "      <td>0.005</td>\n",
              "      <td>0.004</td>\n",
              "      <td>30.0</td>\n",
              "      <td>26.0</td>\n",
              "      <td>1.05</td>\n",
              "    </tr>\n",
              "    <tr>\n",
              "      <th>2458</th>\n",
              "      <td>pi[90, 12]</td>\n",
              "      <td>0.569</td>\n",
              "      <td>0.020</td>\n",
              "      <td>0.532</td>\n",
              "      <td>0.609</td>\n",
              "      <td>0.003</td>\n",
              "      <td>0.002</td>\n",
              "      <td>47.0</td>\n",
              "      <td>83.0</td>\n",
              "      <td>1.04</td>\n",
              "    </tr>\n",
              "  </tbody>\n",
              "</table>\n",
              "<p>2459 rows × 10 columns</p>\n",
              "</div>\n",
              "      <button class=\"colab-df-convert\" onclick=\"convertToInteractive('df-b55d2b26-01bb-41d9-81ce-c0a114f276da')\"\n",
              "              title=\"Convert this dataframe to an interactive table.\"\n",
              "              style=\"display:none;\">\n",
              "        \n",
              "  <svg xmlns=\"http://www.w3.org/2000/svg\" height=\"24px\"viewBox=\"0 0 24 24\"\n",
              "       width=\"24px\">\n",
              "    <path d=\"M0 0h24v24H0V0z\" fill=\"none\"/>\n",
              "    <path d=\"M18.56 5.44l.94 2.06.94-2.06 2.06-.94-2.06-.94-.94-2.06-.94 2.06-2.06.94zm-11 1L8.5 8.5l.94-2.06 2.06-.94-2.06-.94L8.5 2.5l-.94 2.06-2.06.94zm10 10l.94 2.06.94-2.06 2.06-.94-2.06-.94-.94-2.06-.94 2.06-2.06.94z\"/><path d=\"M17.41 7.96l-1.37-1.37c-.4-.4-.92-.59-1.43-.59-.52 0-1.04.2-1.43.59L10.3 9.45l-7.72 7.72c-.78.78-.78 2.05 0 2.83L4 21.41c.39.39.9.59 1.41.59.51 0 1.02-.2 1.41-.59l7.78-7.78 2.81-2.81c.8-.78.8-2.07 0-2.86zM5.41 20L4 18.59l7.72-7.72 1.47 1.35L5.41 20z\"/>\n",
              "  </svg>\n",
              "      </button>\n",
              "      \n",
              "  <style>\n",
              "    .colab-df-container {\n",
              "      display:flex;\n",
              "      flex-wrap:wrap;\n",
              "      gap: 12px;\n",
              "    }\n",
              "\n",
              "    .colab-df-convert {\n",
              "      background-color: #E8F0FE;\n",
              "      border: none;\n",
              "      border-radius: 50%;\n",
              "      cursor: pointer;\n",
              "      display: none;\n",
              "      fill: #1967D2;\n",
              "      height: 32px;\n",
              "      padding: 0 0 0 0;\n",
              "      width: 32px;\n",
              "    }\n",
              "\n",
              "    .colab-df-convert:hover {\n",
              "      background-color: #E2EBFA;\n",
              "      box-shadow: 0px 1px 2px rgba(60, 64, 67, 0.3), 0px 1px 3px 1px rgba(60, 64, 67, 0.15);\n",
              "      fill: #174EA6;\n",
              "    }\n",
              "\n",
              "    [theme=dark] .colab-df-convert {\n",
              "      background-color: #3B4455;\n",
              "      fill: #D2E3FC;\n",
              "    }\n",
              "\n",
              "    [theme=dark] .colab-df-convert:hover {\n",
              "      background-color: #434B5C;\n",
              "      box-shadow: 0px 1px 3px 1px rgba(0, 0, 0, 0.15);\n",
              "      filter: drop-shadow(0px 1px 2px rgba(0, 0, 0, 0.3));\n",
              "      fill: #FFFFFF;\n",
              "    }\n",
              "  </style>\n",
              "\n",
              "      <script>\n",
              "        const buttonEl =\n",
              "          document.querySelector('#df-b55d2b26-01bb-41d9-81ce-c0a114f276da button.colab-df-convert');\n",
              "        buttonEl.style.display =\n",
              "          google.colab.kernel.accessAllowed ? 'block' : 'none';\n",
              "\n",
              "        async function convertToInteractive(key) {\n",
              "          const element = document.querySelector('#df-b55d2b26-01bb-41d9-81ce-c0a114f276da');\n",
              "          const dataTable =\n",
              "            await google.colab.kernel.invokeFunction('convertToInteractive',\n",
              "                                                     [key], {});\n",
              "          if (!dataTable) return;\n",
              "\n",
              "          const docLinkHtml = 'Like what you see? Visit the ' +\n",
              "            '<a target=\"_blank\" href=https://colab.research.google.com/notebooks/data_table.ipynb>data table notebook</a>'\n",
              "            + ' to learn more about interactive tables.';\n",
              "          element.innerHTML = '';\n",
              "          dataTable['output_type'] = 'display_data';\n",
              "          await google.colab.output.renderOutput(dataTable, element);\n",
              "          const docLink = document.createElement('div');\n",
              "          docLink.innerHTML = docLinkHtml;\n",
              "          element.appendChild(docLink);\n",
              "        }\n",
              "      </script>\n",
              "    </div>\n",
              "  </div>\n",
              "  "
            ]
          },
          "metadata": {},
          "execution_count": 222
        }
      ]
    },
    {
      "cell_type": "code",
      "execution_count": null,
      "metadata": {
        "id": "Yv7XnwRqD5Bn"
      },
      "outputs": [],
      "source": [
        "processed.rename(columns = {\"Unnamed: 0\": \"Parameter\"}, inplace=True)"
      ]
    },
    {
      "cell_type": "code",
      "execution_count": null,
      "metadata": {
        "id": "-YusOuW6D4-s"
      },
      "outputs": [],
      "source": [
        "state = 10\n",
        "results = []\n",
        "std_upper = []\n",
        "std_lower = []\n",
        "for i in range(timeframe):\n",
        "  name1 = \"pi[\" + str(timeframe - 1 - i) + \", \" + str(state) + \"]\"\n",
        "  row1 = processed[processed[\"Parameter\"] == name1]\n",
        "  results.append(processed.loc[row1.index[0], \"mean\"])\n",
        "  std_upper.append(processed.loc[row1.index[0], \"mean\"] + 2*processed.loc[row1.index[0], \"sd\"])\n",
        "  std_lower.append(processed.loc[row1.index[0], \"mean\"] - 2*processed.loc[row1.index[0], \"sd\"])"
      ]
    },
    {
      "cell_type": "code",
      "execution_count": null,
      "metadata": {
        "colab": {
          "base_uri": "https://localhost:8080/",
          "height": 466
        },
        "id": "zzQDKdmck4El",
        "outputId": "25242ed5-40f2-4991-ae44-3090409de583"
      },
      "outputs": [
        {
          "output_type": "display_data",
          "data": {
            "text/plain": [
              "<Figure size 640x480 with 1 Axes>"
            ],
            "image/png": "[encoded data removed]"
          },
          "metadata": {}
        }
      ],
      "source": [
        "plt.plot(range(timeframe), results, label = \"Bayesian model\", c='blue')\n",
        "plt.plot(range(timeframe), std_upper, label = \"2$\\sigma$ confidence interval\", c='magenta')\n",
        "plt.plot(range(timeframe), std_lower, c='magenta')\n",
        "plt.axvline(x = timeframe-32, c='red', label=\"October surprise\")\n",
        "plt.axvline(x = timeframe-45, c='purple', label=\"First debate\")\n",
        "plt.scatter(days, support, label = \"Polls\", alpha=0.3)\n",
        "plt.legend()\n",
        "plt.xlabel(\"Days since August 10th \\n Pennsylvania\")\n",
        "plt.ylabel(\"Proportion of Democratic support\")\n",
        "plt.show()"
      ]
    }
  ],
  "metadata": {
    "colab": {
      "provenance": [],
      "authorship_tag": "ABX9TyM5T3sSlEt9Lv4KM0+MeyP6",
      "include_colab_link": true
    },
    "gpuClass": "standard",
    "kernelspec": {
      "display_name": "Python 3",
      "name": "python3"
    },
    "language_info": {
      "name": "python"
    }
  },
  "nbformat": 4,
  "nbformat_minor": 0
}